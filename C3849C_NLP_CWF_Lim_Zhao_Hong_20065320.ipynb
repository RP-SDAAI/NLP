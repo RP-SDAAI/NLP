{
 "cells": [
  {
   "cell_type": "code",
   "execution_count": null,
   "id": "94ba205e",
   "metadata": {},
   "outputs": [],
   "source": [
    "#install all the library before launching streamlit\n",
    "#python -m pip install transformers \n",
    "#python -m pip install streamlit\n",
    "#python -m pip install sentencepiece"
   ]
  },
  {
   "cell_type": "code",
   "execution_count": null,
   "id": "b90119e6",
   "metadata": {},
   "outputs": [],
   "source": [
    "import torch\n",
    "import streamlit as st\n",
    "from transformers import BartForConditionalGeneration, BartTokenizer, BartModel\n",
    "from transformers import T5Tokenizer, T5ForConditionalGeneration\n",
    "from transformers import pipeline"
   ]
  },
  {
   "cell_type": "code",
   "execution_count": null,
   "id": "fa67c654",
   "metadata": {},
   "outputs": [],
   "source": [
    "st.title('Abstractive Summarization using BART and T5 transformer model')\n",
    "st.markdown('Student Name: Lim Zhao Hong Student ID: 20065320')\n"
   ]
  },
  {
   "cell_type": "code",
   "execution_count": null,
   "id": "eea4257a",
   "metadata": {},
   "outputs": [],
   "source": [
    "st.caption('Bart model reference: https://huggingface.co/transformers/v3.0.2/model_doc/bart.html')\n",
    "st.caption('T5 model reference: https://huggingface.co/transformers/v3.0.2/model_doc/t5.html')\n",
    "model = st.selectbox('Select the model', ('BART', 'T5'))"
   ]
  },
  {
   "cell_type": "code",
   "execution_count": null,
   "id": "0a53f959",
   "metadata": {},
   "outputs": [],
   "source": [
    "if model == 'BART':\n",
    "    _num_beams = 4\n",
    "    _no_repeat_ngram_size = 3\n",
    "    _length_penalty = 1\n",
    "    _min_length = 12\n",
    "    _max_length = 128\n",
    "    _early_stopping = True\n",
    "else:\n",
    "    _num_beams = 4\n",
    "    _no_repeat_ngram_size = 3\n",
    "    _length_penalty = 2\n",
    "    _min_length = 30\n",
    "    _max_length = 200\n",
    "    _early_stopping = True\n",
    "\n",
    "col1, col2, col3 = st.columns(3)\n",
    "_num_beams = col1.number_input(\"num_beams\", value=_num_beams)\n",
    "st.markdown('num_beams: the number of different possible sequences considered at each generation step. A larger value increases computation time but also increases the quality of the generated text')\n",
    "_min_length = col1.number_input(\"min_length\", value=_min_length)\n",
    "st.markdown('min_length: The minimum number of tokens that an output text can have')\n",
    "_max_length = col2.number_input(\"max_length\", value=_max_length)\n",
    "st.markdown('max_length: The maximum number of tokens that an output text can have')\n",
    "\n",
    "text = st.text_area('Text Input')"
   ]
  },
  {
   "cell_type": "code",
   "execution_count": null,
   "id": "6aadc1cf",
   "metadata": {},
   "outputs": [],
   "source": [
    "def summary_model(input_text):\n",
    "    device = torch.device('cuda' if torch.cuda.is_available() else 'cpu')\n",
    "\n",
    "    if model == \"BART\":\n",
    "        bart_model = BartForConditionalGeneration.from_pretrained('facebook/bart-large')\n",
    "        bart_tokenizer = BartTokenizer.from_pretrained('facebook/bart-large')\n",
    "        input_text = str(input_text)\n",
    "        input_text = ' '.join(input_text.split())\n",
    "        input_tokenized = bart_tokenizer.encode(input_text, return_tensors='pt').to(device)\n",
    "        summary_ids = bart_model.generate(input_tokenized,\n",
    "                                          num_beams=_num_beams,\n",
    "                                          min_length=_min_length,\n",
    "                                          max_length=_max_length)\n",
    "\n",
    "        output = [bart_tokenizer.decode(g, skip_special_tokens=True, clean_up_tokenization_spaces=False) for g in summary_ids]              \n",
    "       \n",
    "        st.write('Summary')\n",
    "        st.success(output[0])\n",
    "\n",
    "    else:\n",
    "        t5_model = T5ForConditionalGeneration.from_pretrained(\"t5-base\")\n",
    "        t5_tokenizer = T5Tokenizer.from_pretrained(\"t5-base\")\n",
    "        input_text = str(input_text).replace('\\n', '')\n",
    "        input_text = ' '.join(input_text.split())\n",
    "        input_tokenized = t5_tokenizer.encode(input_text, return_tensors=\"pt\").to(device)\n",
    "        summary_task = torch.tensor([[21603, 10]]).to(device)\n",
    "        input_tokenized = torch.cat([summary_task, input_tokenized], dim=-1).to(device)\n",
    "        summary_ids = t5_model.generate(input_tokenized,\n",
    "                                        num_beams=_num_beams,\n",
    "                                        min_length=_min_length,\n",
    "                                        max_length=_max_length)\n",
    "        output = [t5_tokenizer.decode(g, skip_special_tokens=True, clean_up_tokenization_spaces=False) for g in summary_ids]\n",
    "        st.write('Summary')\n",
    "        st.success(output[0])\n"
   ]
  },
  {
   "cell_type": "code",
   "execution_count": null,
   "id": "e5f769db",
   "metadata": {},
   "outputs": [],
   "source": [
    "if st.button('Submit'):\n",
    "    summary_model(text)"
   ]
  }
 ],
 "metadata": {
  "kernelspec": {
   "display_name": "Python 3 (ipykernel)",
   "language": "python",
   "name": "python3"
  },
  "language_info": {
   "codemirror_mode": {
    "name": "ipython",
    "version": 3
   },
   "file_extension": ".py",
   "mimetype": "text/x-python",
   "name": "python",
   "nbconvert_exporter": "python",
   "pygments_lexer": "ipython3",
   "version": "3.9.12"
  }
 },
 "nbformat": 4,
 "nbformat_minor": 5
}
